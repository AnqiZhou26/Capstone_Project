{
 "cells": [
  {
   "cell_type": "markdown",
   "id": "4053bf9c",
   "metadata": {},
   "source": [
    "### Import Libraries"
   ]
  },
  {
   "cell_type": "code",
   "execution_count": 84,
   "id": "cc13b365",
   "metadata": {
    "scrolled": true
   },
   "outputs": [],
   "source": [
    "# Import all libraries needed\n",
    "import cv2\n",
    "import os\n",
    "import zipfile\n",
    "\n",
    "import numpy as np\n",
    "import pandas as pd\n",
    "import collections\n",
    "import matplotlib.pyplot as plt \n",
    "\n",
    "import sklearn\n",
    "from sklearn import metrics\n",
    "from sklearn.decomposition import PCA\n",
    "\n",
    "from tensorflow import keras\n",
    "from tensorflow.keras.preprocessing.image import array_to_img, img_to_array, load_img\n",
    "from tensorflow.keras.models import Sequential\n",
    "from tensorflow.keras import layers\n",
    "\n",
    "from keras.callbacks import ModelCheckpoint, EarlyStopping\n",
    "from keras.preprocessing.image import ImageDataGenerator\n",
    "from keras.layers import Dense, Conv2D, MaxPooling2D, Flatten, Reshape, Dropout\n",
    "from keras.preprocessing.image import ImageDataGenerator\n",
    "from keras.models import Model, Sequential, load_model\n",
    "from keras.applications.vgg16 import VGG16\n",
    "from keras.utils import np_utils"
   ]
  },
  {
   "cell_type": "markdown",
   "id": "b668fadb",
   "metadata": {},
   "source": [
    "### Preprocess Images"
   ]
  },
  {
   "cell_type": "code",
   "execution_count": 30,
   "id": "af665baa",
   "metadata": {},
   "outputs": [
    {
     "name": "stdout",
     "output_type": "stream",
     "text": [
      "Found 320 images belonging to 10 classes.\n",
      "Found 154 images belonging to 10 classes.\n"
     ]
    }
   ],
   "source": [
    "# Preprocessing the images\n",
    "# Randomly rotating and adjusting the brightness of images to create more variations\n",
    "train_datagen = keras.preprocessing.image.ImageDataGenerator(rotation_range = 10, brightness_range= (0.1, 0.2))\n",
    "test_datagen = keras.preprocessing.image.ImageDataGenerator(rotation_range = 10, brightness_range= (0.1, 0.2))\n",
    "\n",
    "root = '/Users/anqizhou/Documents/GitHub/lfw_dataset/'\n",
    "\n",
    "training_set = train_datagen.flow_from_directory(root+'cnn_train/',\n",
    "                                                 batch_size = 320, # length of the training set\n",
    "                                                 target_size = (250, 250),\n",
    "                                                 color_mode = 'rgb',\n",
    "                                                 class_mode = 'categorical',\n",
    "                                                 shuffle = True)\n",
    "val_set = test_datagen.flow_from_directory(root+'cnn_val/',\n",
    "                                           batch_size = 154,\n",
    "                                           target_size = (250, 250),\n",
    "                                           color_mode = 'rgb',\n",
    "                                           class_mode = 'categorical',\n",
    "                                           shuffle = True)"
   ]
  },
  {
   "cell_type": "markdown",
   "id": "41e47747",
   "metadata": {},
   "source": [
    "### Data Augmentation"
   ]
  },
  {
   "cell_type": "code",
   "execution_count": 23,
   "id": "684f8d81",
   "metadata": {},
   "outputs": [],
   "source": [
    "# Helper function to extract labels for classes\n",
    "def extract_y(y_dummy):\n",
    "    label_vector = []\n",
    "    i = 0\n",
    "    while (i < len(y_dummy)):\n",
    "        j = 0\n",
    "        while (j < len(y_dummy[i])):\n",
    "            if (y_dummy[i][j]):\n",
    "                label_vector.append(j)\n",
    "                break\n",
    "            j += 1  \n",
    "        i += 1\n",
    "    return label_vector"
   ]
  },
  {
   "cell_type": "code",
   "execution_count": 33,
   "id": "4a361e58",
   "metadata": {},
   "outputs": [
    {
     "name": "stdout",
     "output_type": "stream",
     "text": [
      "(960, 250, 250, 3)\n",
      "(308, 250, 250, 3)\n",
      "(960,)\n",
      "(308,)\n"
     ]
    }
   ],
   "source": [
    "# Data Augmentation: increase the size of the training set to prepare for PCA\n",
    "dataAugmentTrain = 2\n",
    "dataAugmentTest = 1\n",
    "\n",
    "# Extract y_train, y_test\n",
    "x_train, dummy_vector = training_set.next()\n",
    "y_train = extract_y(dummy_vector)\n",
    "x_test, dummy_vector = val_set.next()\n",
    "y_test = extract_y(dummy_vector)\n",
    "\n",
    "while dataAugmentTrain > 0:\n",
    "    x_train2, dummy_vector = training_set.next()\n",
    "    y_train2 = extract_y(dummy_vector)\n",
    "    x_train = np.append(x_train, x_train2, axis=0)\n",
    "    y_train = np.append(y_train, y_train2, axis=0)\n",
    "    dataAugmentTrain -= 1\n",
    "\n",
    "while dataAugmentTest > 0:\n",
    "    x_test2, dummy_vector = val_set.next()\n",
    "    y_test2 = extract_y(dummy_vector)\n",
    "    x_test = np.append(x_test, x_test2, axis=0)\n",
    "    y_test = np.append(y_test, y_test2, axis=0)\n",
    "    dataAugmentTest -= 1\n",
    "\n",
    "print(x_train.shape)\n",
    "print(x_test.shape)\n",
    "print(y_train.shape)\n",
    "print(y_test.shape)"
   ]
  },
  {
   "cell_type": "markdown",
   "id": "9123beb1",
   "metadata": {},
   "source": [
    "### VGG16 Model as Feature Extractor"
   ]
  },
  {
   "cell_type": "code",
   "execution_count": 36,
   "id": "ef8af049",
   "metadata": {},
   "outputs": [
    {
     "name": "stdout",
     "output_type": "stream",
     "text": [
      "Model: \"vgg16\"\n",
      "_________________________________________________________________\n",
      " Layer (type)                Output Shape              Param #   \n",
      "=================================================================\n",
      " input_6 (InputLayer)        [(None, 250, 250, 3)]     0         \n",
      "                                                                 \n",
      " block1_conv1 (Conv2D)       (None, 250, 250, 64)      1792      \n",
      "                                                                 \n",
      " block1_conv2 (Conv2D)       (None, 250, 250, 64)      36928     \n",
      "                                                                 \n",
      " block1_pool (MaxPooling2D)  (None, 125, 125, 64)      0         \n",
      "                                                                 \n",
      " block2_conv1 (Conv2D)       (None, 125, 125, 128)     73856     \n",
      "                                                                 \n",
      " block2_conv2 (Conv2D)       (None, 125, 125, 128)     147584    \n",
      "                                                                 \n",
      " block2_pool (MaxPooling2D)  (None, 62, 62, 128)       0         \n",
      "                                                                 \n",
      " block3_conv1 (Conv2D)       (None, 62, 62, 256)       295168    \n",
      "                                                                 \n",
      " block3_conv2 (Conv2D)       (None, 62, 62, 256)       590080    \n",
      "                                                                 \n",
      " block3_conv3 (Conv2D)       (None, 62, 62, 256)       590080    \n",
      "                                                                 \n",
      " block3_pool (MaxPooling2D)  (None, 31, 31, 256)       0         \n",
      "                                                                 \n",
      " block4_conv1 (Conv2D)       (None, 31, 31, 512)       1180160   \n",
      "                                                                 \n",
      " block4_conv2 (Conv2D)       (None, 31, 31, 512)       2359808   \n",
      "                                                                 \n",
      " block4_conv3 (Conv2D)       (None, 31, 31, 512)       2359808   \n",
      "                                                                 \n",
      " block4_pool (MaxPooling2D)  (None, 15, 15, 512)       0         \n",
      "                                                                 \n",
      " block5_conv1 (Conv2D)       (None, 15, 15, 512)       2359808   \n",
      "                                                                 \n",
      " block5_conv2 (Conv2D)       (None, 15, 15, 512)       2359808   \n",
      "                                                                 \n",
      " block5_conv3 (Conv2D)       (None, 15, 15, 512)       2359808   \n",
      "                                                                 \n",
      " block5_pool (MaxPooling2D)  (None, 7, 7, 512)         0         \n",
      "                                                                 \n",
      "=================================================================\n",
      "Total params: 14,714,688\n",
      "Trainable params: 0\n",
      "Non-trainable params: 14,714,688\n",
      "_________________________________________________________________\n"
     ]
    }
   ],
   "source": [
    "# VGG16 Model\n",
    "def getVGG16Model():\n",
    "    vgg_model = VGG16(weights='imagenet', input_shape=(250, 250, 3), include_top=False)\n",
    "    \n",
    "    for layer in vgg_model.layers[:]:\n",
    "        layer.trainable = False\n",
    "\n",
    "    vgg_model.compile(optimizer='adam', loss='categorical_crossentropy', metrics=['accuracy'])\n",
    "    vgg_model.summary()\n",
    "\n",
    "    return vgg_model\n",
    "\n",
    "model = getVGG16Model()"
   ]
  },
  {
   "cell_type": "code",
   "execution_count": 37,
   "id": "6d158ea7",
   "metadata": {},
   "outputs": [
    {
     "name": "stdout",
     "output_type": "stream",
     "text": [
      "30/30 [==============================] - 230s 8s/step\n"
     ]
    },
    {
     "data": {
      "text/plain": [
       "(960, 7, 7, 512)"
      ]
     },
     "execution_count": 37,
     "metadata": {},
     "output_type": "execute_result"
    }
   ],
   "source": [
    "# Extract the features of the training set\n",
    "x_train_feature_extracted = model.predict(x_train)\n",
    "x_train_feature_extracted.shape"
   ]
  },
  {
   "cell_type": "code",
   "execution_count": 38,
   "id": "8d5455fb",
   "metadata": {},
   "outputs": [],
   "source": [
    "# PCA: reduce dimensionality\n",
    "from sklearn.decomposition import PCA\n",
    "\n",
    "pca_components = 384 \n",
    "X_train_PCA = x_train_feature_extracted.reshape(x_train_feature_extracted.shape[0], -1)\n",
    "pca = PCA(n_components = pca_components, whiten = True).fit(X_train_PCA)\n",
    "X = pca.transform(X_train_PCA)"
   ]
  },
  {
   "cell_type": "code",
   "execution_count": 39,
   "id": "9cdaceb2",
   "metadata": {},
   "outputs": [
    {
     "name": "stderr",
     "output_type": "stream",
     "text": [
      "/usr/local/lib/python3.10/site-packages/sklearn/svm/_base.py:1225: ConvergenceWarning: Liblinear failed to converge, increase the number of iterations.\n",
      "  warnings.warn(\n"
     ]
    },
    {
     "data": {
      "text/html": [
       "<style>#sk-container-id-1 {color: black;background-color: white;}#sk-container-id-1 pre{padding: 0;}#sk-container-id-1 div.sk-toggleable {background-color: white;}#sk-container-id-1 label.sk-toggleable__label {cursor: pointer;display: block;width: 100%;margin-bottom: 0;padding: 0.3em;box-sizing: border-box;text-align: center;}#sk-container-id-1 label.sk-toggleable__label-arrow:before {content: \"▸\";float: left;margin-right: 0.25em;color: #696969;}#sk-container-id-1 label.sk-toggleable__label-arrow:hover:before {color: black;}#sk-container-id-1 div.sk-estimator:hover label.sk-toggleable__label-arrow:before {color: black;}#sk-container-id-1 div.sk-toggleable__content {max-height: 0;max-width: 0;overflow: hidden;text-align: left;background-color: #f0f8ff;}#sk-container-id-1 div.sk-toggleable__content pre {margin: 0.2em;color: black;border-radius: 0.25em;background-color: #f0f8ff;}#sk-container-id-1 input.sk-toggleable__control:checked~div.sk-toggleable__content {max-height: 200px;max-width: 100%;overflow: auto;}#sk-container-id-1 input.sk-toggleable__control:checked~label.sk-toggleable__label-arrow:before {content: \"▾\";}#sk-container-id-1 div.sk-estimator input.sk-toggleable__control:checked~label.sk-toggleable__label {background-color: #d4ebff;}#sk-container-id-1 div.sk-label input.sk-toggleable__control:checked~label.sk-toggleable__label {background-color: #d4ebff;}#sk-container-id-1 input.sk-hidden--visually {border: 0;clip: rect(1px 1px 1px 1px);clip: rect(1px, 1px, 1px, 1px);height: 1px;margin: -1px;overflow: hidden;padding: 0;position: absolute;width: 1px;}#sk-container-id-1 div.sk-estimator {font-family: monospace;background-color: #f0f8ff;border: 1px dotted black;border-radius: 0.25em;box-sizing: border-box;margin-bottom: 0.5em;}#sk-container-id-1 div.sk-estimator:hover {background-color: #d4ebff;}#sk-container-id-1 div.sk-parallel-item::after {content: \"\";width: 100%;border-bottom: 1px solid gray;flex-grow: 1;}#sk-container-id-1 div.sk-label:hover label.sk-toggleable__label {background-color: #d4ebff;}#sk-container-id-1 div.sk-serial::before {content: \"\";position: absolute;border-left: 1px solid gray;box-sizing: border-box;top: 0;bottom: 0;left: 50%;z-index: 0;}#sk-container-id-1 div.sk-serial {display: flex;flex-direction: column;align-items: center;background-color: white;padding-right: 0.2em;padding-left: 0.2em;position: relative;}#sk-container-id-1 div.sk-item {position: relative;z-index: 1;}#sk-container-id-1 div.sk-parallel {display: flex;align-items: stretch;justify-content: center;background-color: white;position: relative;}#sk-container-id-1 div.sk-item::before, #sk-container-id-1 div.sk-parallel-item::before {content: \"\";position: absolute;border-left: 1px solid gray;box-sizing: border-box;top: 0;bottom: 0;left: 50%;z-index: -1;}#sk-container-id-1 div.sk-parallel-item {display: flex;flex-direction: column;z-index: 1;position: relative;background-color: white;}#sk-container-id-1 div.sk-parallel-item:first-child::after {align-self: flex-end;width: 50%;}#sk-container-id-1 div.sk-parallel-item:last-child::after {align-self: flex-start;width: 50%;}#sk-container-id-1 div.sk-parallel-item:only-child::after {width: 0;}#sk-container-id-1 div.sk-dashed-wrapped {border: 1px dashed gray;margin: 0 0.4em 0.5em 0.4em;box-sizing: border-box;padding-bottom: 0.4em;background-color: white;}#sk-container-id-1 div.sk-label label {font-family: monospace;font-weight: bold;display: inline-block;line-height: 1.2em;}#sk-container-id-1 div.sk-label-container {text-align: center;}#sk-container-id-1 div.sk-container {/* jupyter's `normalize.less` sets `[hidden] { display: none; }` but bootstrap.min.css set `[hidden] { display: none !important; }` so we also need the `!important` here to be able to override the default hidden behavior on the sphinx rendered scikit-learn.org. See: https://github.com/scikit-learn/scikit-learn/issues/21755 */display: inline-block !important;position: relative;}#sk-container-id-1 div.sk-text-repr-fallback {display: none;}</style><div id=\"sk-container-id-1\" class=\"sk-top-container\"><div class=\"sk-text-repr-fallback\"><pre>LinearSVC()</pre><b>In a Jupyter environment, please rerun this cell to show the HTML representation or trust the notebook. <br />On GitHub, the HTML representation is unable to render, please try loading this page with nbviewer.org.</b></div><div class=\"sk-container\" hidden><div class=\"sk-item\"><div class=\"sk-estimator sk-toggleable\"><input class=\"sk-toggleable__control sk-hidden--visually\" id=\"sk-estimator-id-1\" type=\"checkbox\" checked><label for=\"sk-estimator-id-1\" class=\"sk-toggleable__label sk-toggleable__label-arrow\">LinearSVC</label><div class=\"sk-toggleable__content\"><pre>LinearSVC()</pre></div></div></div></div></div>"
      ],
      "text/plain": [
       "LinearSVC()"
      ]
     },
     "execution_count": 39,
     "metadata": {},
     "output_type": "execute_result"
    }
   ],
   "source": [
    "# SVM: classifier\n",
    "from sklearn import svm\n",
    "\n",
    "clf = svm.LinearSVC()\n",
    "clf.fit(X, y_train)"
   ]
  },
  {
   "cell_type": "code",
   "execution_count": 40,
   "id": "ac9d3984",
   "metadata": {},
   "outputs": [
    {
     "name": "stdout",
     "output_type": "stream",
     "text": [
      "10/10 [==============================] - 53s 5s/step\n"
     ]
    }
   ],
   "source": [
    "x_test_feature_extracted = model.predict(x_test)\n",
    "x_test = pca.transform(x_test_feature_extracted.reshape(x_test_feature_extracted.shape[0], -1))\n",
    "y_pred = clf.predict(x_test)"
   ]
  },
  {
   "cell_type": "code",
   "execution_count": 86,
   "id": "16062028",
   "metadata": {},
   "outputs": [
    {
     "name": "stdout",
     "output_type": "stream",
     "text": [
      "Accuracy =  0.9058441558441559\n",
      "Classification Report:\n",
      "\n",
      "              precision    recall  f1-score   support\n",
      "\n",
      "           0       1.00      0.97      0.99        38\n",
      "           1       0.93      0.93      0.93        28\n",
      "           2       0.96      0.85      0.90        26\n",
      "           3       0.68      0.71      0.69        24\n",
      "           4       0.89      0.92      0.91        26\n",
      "           5       0.85      0.91      0.88        32\n",
      "           6       0.93      1.00      0.96        38\n",
      "           7       0.91      0.94      0.93        34\n",
      "           8       0.97      1.00      0.99        36\n",
      "           9       0.86      0.69      0.77        26\n",
      "\n",
      "    accuracy                           0.91       308\n",
      "   macro avg       0.90      0.89      0.89       308\n",
      "weighted avg       0.91      0.91      0.90       308\n",
      "\n"
     ]
    }
   ],
   "source": [
    "from sklearn import metrics\n",
    "\n",
    "print (\"Accuracy = \", metrics.accuracy_score(y_test, y_pred))\n",
    "print (\"Classification Report:\\n\")\n",
    "print (metrics.classification_report(y_test, y_pred, zero_division=0))"
   ]
  },
  {
   "cell_type": "code",
   "execution_count": 79,
   "id": "ea1fd6b1",
   "metadata": {},
   "outputs": [
    {
     "name": "stdout",
     "output_type": "stream",
     "text": [
      "Best parameters: {'mlpclassifier__alpha': 0.1, 'mlpclassifier__hidden_layer_sizes': (700,)}\n",
      "Best accuracy: 0.9802083333333332\n"
     ]
    }
   ],
   "source": [
    "from sklearn.pipeline import Pipeline\n",
    "from sklearn.neural_network import MLPClassifier\n",
    "from sklearn.preprocessing import StandardScaler\n",
    "import warnings\n",
    "warnings.filterwarnings('ignore')\n",
    "\n",
    "# Define the pipeline\n",
    "pipeline = Pipeline([\n",
    "    ('standardscaler', StandardScaler()),\n",
    "    ('mlpclassifier', MLPClassifier())\n",
    "])\n",
    "\n",
    "# Define the parameter grid\n",
    "params = {\n",
    "    'mlpclassifier__hidden_layer_sizes': [(100,), (200,), (300,), (400,), (500,), (600,), (700,), (800,)],\n",
    "    'mlpclassifier__alpha': [0.0001, 0.001, 0.01, 0.1]\n",
    "}\n",
    "\n",
    "# Perform grid search\n",
    "from sklearn.model_selection import GridSearchCV\n",
    "grid_search_mlp = GridSearchCV(pipeline, params, cv=5)\n",
    "grid_search_mlp.fit(X, y_train)\n",
    "\n",
    "# Get the best parameters and score\n",
    "best_params = grid_search_mlp.best_params_\n",
    "best_score = grid_search_mlp.best_score_\n",
    "\n",
    "# print the best hyperparameters and the corresponding accuracy score\n",
    "print(\"Best parameters:\", best_params)\n",
    "print(\"Best accuracy:\", best_score)"
   ]
  },
  {
   "cell_type": "code",
   "execution_count": 85,
   "id": "908da063",
   "metadata": {},
   "outputs": [
    {
     "name": "stdout",
     "output_type": "stream",
     "text": [
      "Accuracy =  0.9090909090909091\n",
      "Classification Report:\n",
      "\n",
      "              precision    recall  f1-score   support\n",
      "\n",
      "           0       1.00      0.97      0.99        38\n",
      "           1       0.90      0.93      0.91        28\n",
      "           2       1.00      0.85      0.92        26\n",
      "           3       0.67      0.83      0.74        24\n",
      "           4       0.92      0.88      0.90        26\n",
      "           5       0.88      0.94      0.91        32\n",
      "           6       0.95      1.00      0.97        38\n",
      "           7       0.91      0.94      0.93        34\n",
      "           8       0.97      1.00      0.99        36\n",
      "           9       0.84      0.62      0.71        26\n",
      "\n",
      "    accuracy                           0.91       308\n",
      "   macro avg       0.90      0.90      0.90       308\n",
      "weighted avg       0.91      0.91      0.91       308\n",
      "\n"
     ]
    }
   ],
   "source": [
    "# get the best classifier from the grid search and fit it on the training data\n",
    "best_classifier_mlp = grid_search_mlp.best_estimator_\n",
    "best_classifier_mlp.fit(X, y_train)\n",
    "\n",
    "# evaluate the best classifier on the test data\n",
    "y_pred_mlp = best_classifier_mlp.predict(x_test)\n",
    "print (\"Accuracy = \", metrics.accuracy_score(y_test, np.array(y_pred_mlp)))\n",
    "print (\"Classification Report:\\n\")\n",
    "print (metrics.classification_report(y_test, y_pred_mlp, zero_division=0))"
   ]
  },
  {
   "cell_type": "code",
   "execution_count": 55,
   "id": "b8c0cc17",
   "metadata": {},
   "outputs": [
    {
     "name": "stdout",
     "output_type": "stream",
     "text": [
      "Best hyperparameters:  {'max_depth': 10, 'min_samples_leaf': 1, 'min_samples_split': 4, 'n_estimators': 400}\n",
      "Best score:  0.9989583333333332\n"
     ]
    }
   ],
   "source": [
    "from sklearn.ensemble import RandomForestClassifier\n",
    "from sklearn.model_selection import GridSearchCV\n",
    "\n",
    "# Create a random forest classifier\n",
    "rfc = RandomForestClassifier()\n",
    "\n",
    "# Set the hyperparameters to be tuned\n",
    "params = {\n",
    "    \"n_estimators\": [100, 200, 300, 400, 500],\n",
    "    \"max_depth\": [10, 20, 30],\n",
    "    \"min_samples_split\": [2, 4, 8],\n",
    "    \"min_samples_leaf\": [1, 2, 4]\n",
    "}\n",
    "\n",
    "# Use GridSearchCV to find the best hyperparameters\n",
    "grid_search = GridSearchCV(rfc, param_grid=params, cv=5)\n",
    "grid_search.fit(X, y_train)\n",
    "\n",
    "# Print the best hyperparameters and the corresponding score\n",
    "print(\"Best hyperparameters: \", grid_search.best_params_)\n",
    "print(\"Best score: \", grid_search.best_score_)"
   ]
  },
  {
   "cell_type": "code",
   "execution_count": 56,
   "id": "58a3f7d5",
   "metadata": {},
   "outputs": [
    {
     "name": "stdout",
     "output_type": "stream",
     "text": [
      "Accuracy =  0.7467532467532467\n",
      "Classification Report:\n",
      "\n",
      "              precision    recall  f1-score   support\n",
      "\n",
      "           0       0.87      0.89      0.88        38\n",
      "           1       0.86      0.68      0.76        28\n",
      "           2       0.90      0.73      0.81        26\n",
      "           3       0.36      0.67      0.47        24\n",
      "           4       0.88      0.54      0.67        26\n",
      "           5       0.86      0.78      0.82        32\n",
      "           6       0.68      0.89      0.77        38\n",
      "           7       0.76      0.47      0.58        34\n",
      "           8       0.92      1.00      0.96        36\n",
      "           9       0.63      0.65      0.64        26\n",
      "\n",
      "    accuracy                           0.75       308\n",
      "   macro avg       0.77      0.73      0.74       308\n",
      "weighted avg       0.78      0.75      0.75       308\n",
      "\n"
     ]
    }
   ],
   "source": [
    "# get the best classifier from the grid search and fit it on the training data\n",
    "best_classifier_rf = grid_search.best_estimator_\n",
    "best_classifier_rf.fit(X, y_train)\n",
    "\n",
    "# evaluate the best classifier on the test data\n",
    "y_pred_rf = best_classifier_rf.predict(x_test)\n",
    "print (\"Accuracy = \", metrics.accuracy_score(y_test, y_pred_rf))\n",
    "print (\"Classification Report:\\n\")\n",
    "print (metrics.classification_report(y_test, y_pred_rf, zero_division=0))"
   ]
  },
  {
   "cell_type": "markdown",
   "id": "7fbbf7f5",
   "metadata": {},
   "source": [
    "### Data Visualization"
   ]
  },
  {
   "cell_type": "code",
   "execution_count": 97,
   "id": "0b03e26e",
   "metadata": {},
   "outputs": [
    {
     "data": {
      "image/png": "[encoded data removed]",
      "text/plain": [
       "<Figure size 2000x500 with 3 Axes>"
      ]
     },
     "metadata": {},
     "output_type": "display_data"
    }
   ],
   "source": [
    "import numpy as np\n",
    "import pandas as pd\n",
    "import matplotlib.pyplot as plt\n",
    "\n",
    "# Create a dictionary for three models\n",
    "model_reports = {}\n",
    "model_reports['SVM'] = metrics.classification_report(y_test, y_pred, output_dict=True)\n",
    "model_reports['MLP'] = metrics.classification_report(y_test, y_pred_mlp, output_dict=True)\n",
    "model_reports['RF'] = metrics.classification_report(y_test, y_pred_rf, output_dict=True)\n",
    "\n",
    "# Create a list of metric names for the box plots\n",
    "metrics_lst = ['precision', 'recall', 'f1-score']\n",
    "\n",
    "# Create a list of class names for the box plots\n",
    "classes_lst = [str(i) for i in range(10)]\n",
    "\n",
    "# Create a dictionary to store the data for each metric and model\n",
    "data = {}\n",
    "for metric in metrics_lst:\n",
    "    data[metric] = {}\n",
    "    for model_name in model_reports.keys():\n",
    "        data[metric][model_name] = []\n",
    "        for c in classes_lst:\n",
    "            data[metric][model_name].append(model_reports[model_name][c][metric])\n",
    "\n",
    "# Create subplots for each metric\n",
    "fig, axes = plt.subplots(nrows=1, ncols=len(metrics_lst), figsize=(20, 5), sharey=True)\n",
    "\n",
    "# Generate box plots for each metric and model\n",
    "for i, metric in enumerate(metrics_lst):\n",
    "    df = pd.DataFrame(data[metric], index=classes_lst)\n",
    "    ax = df.plot(kind='box', ax=axes[i], title=metric.capitalize(), grid=False, fontsize=12)\n",
    "    ax.set_xlabel('Model', fontsize=12)\n",
    "\n",
    "# Set the title of the figure\n",
    "fig.suptitle('Comparison of Classification Metrics Across Models', fontsize=16)\n",
    "\n",
    "# Show the plot\n",
    "plt.show()"
   ]
  },
  {
   "cell_type": "code",
   "execution_count": 124,
   "id": "a55b44bb",
   "metadata": {},
   "outputs": [
    {
     "data": {
      "text/html": [
       "<div>\n",
       "<style scoped>\n",
       "    .dataframe tbody tr th:only-of-type {\n",
       "        vertical-align: middle;\n",
       "    }\n",
       "\n",
       "    .dataframe tbody tr th {\n",
       "        vertical-align: top;\n",
       "    }\n",
       "\n",
       "    .dataframe thead th {\n",
       "        text-align: right;\n",
       "    }\n",
       "</style>\n",
       "<table border=\"1\" class=\"dataframe\">\n",
       "  <thead>\n",
       "    <tr style=\"text-align: right;\">\n",
       "      <th></th>\n",
       "      <th>Baseline Model</th>\n",
       "      <th>Model A</th>\n",
       "      <th>Model B</th>\n",
       "      <th>Baseline Model.1</th>\n",
       "      <th>Model A.1</th>\n",
       "      <th>Model B.1</th>\n",
       "      <th>Baseline Model.2</th>\n",
       "      <th>Model A.2</th>\n",
       "      <th>Model B.2</th>\n",
       "    </tr>\n",
       "  </thead>\n",
       "  <tbody>\n",
       "    <tr>\n",
       "      <th>0</th>\n",
       "      <td>0.93</td>\n",
       "      <td>0.94</td>\n",
       "      <td>0.98</td>\n",
       "      <td>1.00</td>\n",
       "      <td>1.00</td>\n",
       "      <td>1.00</td>\n",
       "      <td>0.46</td>\n",
       "      <td>0.54</td>\n",
       "      <td>0.85</td>\n",
       "    </tr>\n",
       "    <tr>\n",
       "      <th>1</th>\n",
       "      <td>0.94</td>\n",
       "      <td>0.97</td>\n",
       "      <td>0.96</td>\n",
       "      <td>0.71</td>\n",
       "      <td>0.88</td>\n",
       "      <td>0.78</td>\n",
       "      <td>0.56</td>\n",
       "      <td>0.78</td>\n",
       "      <td>0.78</td>\n",
       "    </tr>\n",
       "    <tr>\n",
       "      <th>2</th>\n",
       "      <td>0.92</td>\n",
       "      <td>0.92</td>\n",
       "      <td>0.94</td>\n",
       "      <td>0.57</td>\n",
       "      <td>0.56</td>\n",
       "      <td>1.00</td>\n",
       "      <td>0.44</td>\n",
       "      <td>0.56</td>\n",
       "      <td>0.33</td>\n",
       "    </tr>\n",
       "    <tr>\n",
       "      <th>3</th>\n",
       "      <td>0.85</td>\n",
       "      <td>0.86</td>\n",
       "      <td>0.90</td>\n",
       "      <td>0.25</td>\n",
       "      <td>0.40</td>\n",
       "      <td>0.53</td>\n",
       "      <td>0.18</td>\n",
       "      <td>0.55</td>\n",
       "      <td>0.73</td>\n",
       "    </tr>\n",
       "    <tr>\n",
       "      <th>4</th>\n",
       "      <td>0.90</td>\n",
       "      <td>0.92</td>\n",
       "      <td>0.94</td>\n",
       "      <td>0.54</td>\n",
       "      <td>0.67</td>\n",
       "      <td>0.86</td>\n",
       "      <td>0.64</td>\n",
       "      <td>0.55</td>\n",
       "      <td>0.55</td>\n",
       "    </tr>\n",
       "    <tr>\n",
       "      <th>5</th>\n",
       "      <td>0.98</td>\n",
       "      <td>0.91</td>\n",
       "      <td>0.95</td>\n",
       "      <td>0.86</td>\n",
       "      <td>0.42</td>\n",
       "      <td>0.62</td>\n",
       "      <td>0.86</td>\n",
       "      <td>0.71</td>\n",
       "      <td>0.71</td>\n",
       "    </tr>\n",
       "    <tr>\n",
       "      <th>6</th>\n",
       "      <td>0.92</td>\n",
       "      <td>0.90</td>\n",
       "      <td>0.92</td>\n",
       "      <td>0.40</td>\n",
       "      <td>0.33</td>\n",
       "      <td>0.44</td>\n",
       "      <td>0.29</td>\n",
       "      <td>0.43</td>\n",
       "      <td>0.57</td>\n",
       "    </tr>\n",
       "    <tr>\n",
       "      <th>7</th>\n",
       "      <td>0.92</td>\n",
       "      <td>0.93</td>\n",
       "      <td>0.94</td>\n",
       "      <td>0.62</td>\n",
       "      <td>0.71</td>\n",
       "      <td>0.67</td>\n",
       "      <td>0.50</td>\n",
       "      <td>0.50</td>\n",
       "      <td>0.80</td>\n",
       "    </tr>\n",
       "    <tr>\n",
       "      <th>8</th>\n",
       "      <td>0.90</td>\n",
       "      <td>0.93</td>\n",
       "      <td>0.98</td>\n",
       "      <td>0.58</td>\n",
       "      <td>0.69</td>\n",
       "      <td>1.00</td>\n",
       "      <td>0.58</td>\n",
       "      <td>0.75</td>\n",
       "      <td>0.83</td>\n",
       "    </tr>\n",
       "    <tr>\n",
       "      <th>9</th>\n",
       "      <td>0.76</td>\n",
       "      <td>0.88</td>\n",
       "      <td>0.89</td>\n",
       "      <td>0.26</td>\n",
       "      <td>0.45</td>\n",
       "      <td>0.50</td>\n",
       "      <td>0.64</td>\n",
       "      <td>0.45</td>\n",
       "      <td>0.73</td>\n",
       "    </tr>\n",
       "  </tbody>\n",
       "</table>\n",
       "</div>"
      ],
      "text/plain": [
       "   Baseline Model  Model A  Model B  Baseline Model.1  Model A.1  Model B.1  \\\n",
       "0            0.93     0.94     0.98              1.00       1.00       1.00   \n",
       "1            0.94     0.97     0.96              0.71       0.88       0.78   \n",
       "2            0.92     0.92     0.94              0.57       0.56       1.00   \n",
       "3            0.85     0.86     0.90              0.25       0.40       0.53   \n",
       "4            0.90     0.92     0.94              0.54       0.67       0.86   \n",
       "5            0.98     0.91     0.95              0.86       0.42       0.62   \n",
       "6            0.92     0.90     0.92              0.40       0.33       0.44   \n",
       "7            0.92     0.93     0.94              0.62       0.71       0.67   \n",
       "8            0.90     0.93     0.98              0.58       0.69       1.00   \n",
       "9            0.76     0.88     0.89              0.26       0.45       0.50   \n",
       "\n",
       "   Baseline Model.2  Model A.2  Model B.2  \n",
       "0              0.46       0.54       0.85  \n",
       "1              0.56       0.78       0.78  \n",
       "2              0.44       0.56       0.33  \n",
       "3              0.18       0.55       0.73  \n",
       "4              0.64       0.55       0.55  \n",
       "5              0.86       0.71       0.71  \n",
       "6              0.29       0.43       0.57  \n",
       "7              0.50       0.50       0.80  \n",
       "8              0.58       0.75       0.83  \n",
       "9              0.64       0.45       0.73  "
      ]
     },
     "execution_count": 124,
     "metadata": {},
     "output_type": "execute_result"
    }
   ],
   "source": [
    "dfs = pd.read_excel('data.xlsx', sheet_name='Sheet3', header=1)\n",
    "dfs = dfs.drop('Names', axis=1)\n",
    "dfs"
   ]
  },
  {
   "cell_type": "code",
   "execution_count": 127,
   "id": "31891cf8",
   "metadata": {},
   "outputs": [
    {
     "data": {
      "text/plain": [
       "0    0.93\n",
       "1    0.94\n",
       "2    0.92\n",
       "3    0.85\n",
       "4    0.90\n",
       "5    0.98\n",
       "6    0.92\n",
       "7    0.92\n",
       "8    0.90\n",
       "9    0.76\n",
       "Name: Baseline Model, dtype: float64"
      ]
     },
     "execution_count": 127,
     "metadata": {},
     "output_type": "execute_result"
    }
   ],
   "source": [
    "dfs.iloc[:,0]"
   ]
  },
  {
   "cell_type": "code",
   "execution_count": 131,
   "id": "895697fb",
   "metadata": {},
   "outputs": [
    {
     "data": {
      "text/plain": [
       "{'Accuracy': {'Baseline Model': [0.93,\n",
       "   0.94,\n",
       "   0.92,\n",
       "   0.85,\n",
       "   0.9,\n",
       "   0.98,\n",
       "   0.92,\n",
       "   0.92,\n",
       "   0.9,\n",
       "   0.76],\n",
       "  'Model A': [0.94, 0.97, 0.92, 0.86, 0.92, 0.91, 0.9, 0.93, 0.93, 0.88],\n",
       "  'Model B': [0.98, 0.96, 0.94, 0.9, 0.94, 0.95, 0.92, 0.94, 0.98, 0.89]},\n",
       " 'Precision': {'Baseline Model': [1.0,\n",
       "   0.71,\n",
       "   0.57,\n",
       "   0.25,\n",
       "   0.54,\n",
       "   0.86,\n",
       "   0.4,\n",
       "   0.62,\n",
       "   0.58,\n",
       "   0.26],\n",
       "  'Model A': [1.0, 0.88, 0.56, 0.4, 0.67, 0.42, 0.33, 0.71, 0.69, 0.45],\n",
       "  'Model B': [1.0, 0.78, 1.0, 0.53, 0.86, 0.62, 0.44, 0.67, 1.0, 0.5]},\n",
       " 'Recall': {'Baseline Model': [0.46,\n",
       "   0.56,\n",
       "   0.44,\n",
       "   0.18,\n",
       "   0.64,\n",
       "   0.86,\n",
       "   0.29,\n",
       "   0.5,\n",
       "   0.58,\n",
       "   0.64],\n",
       "  'Model A': [0.54, 0.78, 0.56, 0.55, 0.55, 0.71, 0.43, 0.5, 0.75, 0.45],\n",
       "  'Model B': [0.85, 0.78, 0.33, 0.73, 0.55, 0.71, 0.57, 0.8, 0.83, 0.73]}}"
      ]
     },
     "execution_count": 131,
     "metadata": {},
     "output_type": "execute_result"
    }
   ],
   "source": [
    "# Reformat into dictionary\n",
    "data_prev = {}\n",
    "metric_lst_prev = ['Accuracy', 'Precision', 'Recall']\n",
    "model_names = ['Baseline Model', 'Model A', 'Model B']\n",
    "\n",
    "for x in range(3):\n",
    "    data_prev[metric_lst_prev[x]] = {}\n",
    "\n",
    "for i in range(3):\n",
    "    data_prev['Accuracy'][model_names[i]] = list(dfs.iloc[:,i])\n",
    "\n",
    "for i in range(3,6):\n",
    "    data_prev['Precision'][model_names[i%3]] = list(dfs.iloc[:,i])\n",
    "    \n",
    "for i in range(6,9):\n",
    "    data_prev['Recall'][model_names[i%3]] = list(dfs.iloc[:,i])\n",
    "data_prev"
   ]
  },
  {
   "cell_type": "code",
   "execution_count": 139,
   "id": "f5ce12e4",
   "metadata": {},
   "outputs": [
    {
     "data": {
      "image/png": "[encoded data removed]",
      "text/plain": [
       "<Figure size 2000x500 with 3 Axes>"
      ]
     },
     "metadata": {},
     "output_type": "display_data"
    }
   ],
   "source": [
    "# Create subplots for each metric\n",
    "fig, axes = plt.subplots(nrows=1, ncols=len(metric_lst_prev), figsize=(20, 5), sharey=True)\n",
    "\n",
    "# Generate box plots for each metric and model\n",
    "for i, metric in enumerate(metric_lst_prev):\n",
    "    df = pd.DataFrame(data_prev[metric], index=classes_lst)\n",
    "    ax = df.plot(kind='box', ax=axes[i], title=metric.capitalize(), grid=False, fontsize=12)\n",
    "    ax.set_xlabel('Model', fontsize=12)\n",
    "#     for box in axes[i].artists:\n",
    "#         box.set_edgecolor('red')\n",
    "#         box.set_facecolor('white')\n",
    "\n",
    "# Set the title of the figure\n",
    "fig.suptitle('Comparison of Baseline Model, Model A, and Model B', fontsize=16)\n",
    "\n",
    "# Show the plot\n",
    "plt.show()"
   ]
  },
  {
   "cell_type": "code",
   "execution_count": null,
   "id": "e42617ee",
   "metadata": {},
   "outputs": [],
   "source": []
  }
 ],
 "metadata": {
  "kernelspec": {
   "display_name": "Python 3 (ipykernel)",
   "language": "python",
   "name": "python3"
  },
  "language_info": {
   "codemirror_mode": {
    "name": "ipython",
    "version": 3
   },
   "file_extension": ".py",
   "mimetype": "text/x-python",
   "name": "python",
   "nbconvert_exporter": "python",
   "pygments_lexer": "ipython3",
   "version": "3.10.8"
  }
 },
 "nbformat": 4,
 "nbformat_minor": 5
}
